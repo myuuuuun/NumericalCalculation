{
 "cells": [
  {
   "cell_type": "markdown",
   "metadata": {},
   "source": [
    "# 第2章 関数近似（補間）\n",
    "\n",
    "教科書第2章に載っているアルゴリズムを実装していきます。"
   ]
  },
  {
   "cell_type": "markdown",
   "metadata": {},
   "source": [
    "## 各種ライブラリのインポート・後で使う汎用関数を定義"
   ]
  },
  {
   "cell_type": "code",
   "execution_count": 1,
   "metadata": {
    "collapsed": false
   },
   "outputs": [],
   "source": [
    "#!/usr/bin/python\n",
    "#-*- encoding: utf-8 -*-\n",
    "\"\"\"\n",
    "Copyright (c) 2015 @myuuuuun\n",
    "https://github.com/myuuuuun/NumericalCalculation\n",
    "\n",
    "This software is released under the MIT License.\n",
    "\"\"\"\n",
    "%matplotlib inline\n",
    "from __future__ import division, print_function\n",
    "import math\n",
    "import numpy as np\n",
    "import functools\n",
    "import sys\n",
    "import types\n",
    "import matplotlib.pyplot as plt\n",
    "EPSIRON = 1.0e-8\n",
    "\n",
    "\n",
    "\"\"\"\n",
    "係数行列[a_0, a_1, ..., a_n] から、n次多項式 a_0 + a_1 * x + ... + a_n * x^n\n",
    "を生成して返す（関数を返す）\n",
    "\"\"\"\n",
    "def make_polynomial(a_matrix):\n",
    "    def __func__(x):\n",
    "        f = 0\n",
    "        for n, a_i in enumerate(a_matrix):\n",
    "            f += a_i * pow(x, n)\n",
    "\n",
    "        return f\n",
    "\n",
    "    return __func__\n",
    "\n",
    "\n",
    "\"\"\"\n",
    "グラフを描画し、その上に元々与えられていた点列を重ねてプロットする\n",
    "\n",
    "INPUT:\n",
    "points: 与えられた点列のリスト[[x_0, f_0], [x_1, f_1], ..., [x_n, f_n]]\n",
    "x_list: 近似曲線を描写するxの範囲・密度\n",
    "f_list: 上のxに対応するfの値\n",
    "\"\"\"\n",
    "def points_on_func(points, x_list, f_list, **kwargs):\n",
    "    title = kwargs.get('title', \"Given Points and Interpolation Curve\")\n",
    "    xlim = kwargs.get('xlim', False)\n",
    "    ylim = kwargs.get('ylim', False)\n",
    "    \n",
    "    fig, ax = plt.subplots()\n",
    "    plt.title(title)\n",
    "\n",
    "    plt.plot(x_list, f_list, color='b', linewidth=1, label=\"Interpolation Curve\")\n",
    "\n",
    "    points_x = [point[0] for point in points]\n",
    "    points_y = [point[1] for point in points]\n",
    "    plt.plot(points_x, points_y, 'o', color='r', label=\"Given Points\")\n",
    "    \n",
    "    plt.xlabel(\"x\")\n",
    "    plt.ylabel(\"f\")\n",
    "    if xlim:\n",
    "        ax.set_xlim(xlim)\n",
    "    \n",
    "    if ylim:\n",
    "        ax.set_ylim(ylim)\n",
    "    plt.legend()\n",
    "    plt.show()"
   ]
  },
  {
   "cell_type": "markdown",
   "metadata": {},
   "source": [
    "## 式(2.5)の実装\n",
    "n+1個の点列を入力し、逆行列を解いて、補間多項式を求め、n次補間多項式の係数行列[a_0, a_1, ..., a_n]を返す\n",
    "\n",
    "INPUT  \n",
    "points: n+1個の点列[[x_0, f_0], [x_1, f_1], ..., [x_n, f_n]]\n",
    "\n",
    "OUTPUT  \n",
    "n次補間多項式の係数行列[a_0, a_1, ..., a_n]を返す"
   ]
  },
  {
   "cell_type": "code",
   "execution_count": 5,
   "metadata": {
    "collapsed": false
   },
   "outputs": [],
   "source": [
    "def lagrange(points):\n",
    "    # 次元数\n",
    "    dim = len(points) - 1\n",
    "\n",
    "    # matrix Xをもとめる（ヴァンデルモンドの行列式）\n",
    "    x_matrix = np.array([[pow(point[0], j) for j in range(dim + 1)] for point in points])\n",
    "\n",
    "    # matrix Fをもとめる\n",
    "    f_matrix = np.array([point[1] for point in points])\n",
    "    \n",
    "    # 線形方程式 X * A = F を解く\n",
    "    a_matrix = np.linalg.solve(x_matrix, f_matrix)\n",
    "\n",
    "    return a_matrix"
   ]
  },
  {
   "cell_type": "code",
   "execution_count": 6,
   "metadata": {
    "collapsed": false
   },
   "outputs": [
    {
     "data": {
      "image/png": "[encoded data removed]",
      "text/plain": [
       "<matplotlib.figure.Figure at 0x105e0f1d0>"
      ]
     },
     "metadata": {},
     "output_type": "display_data"
    }
   ],
   "source": [
    "# lagrange()で求めた補間多項式と、元の点列をプロットしてみる\n",
    "# 与えられた点列のリスト\n",
    "points = [[1, 1], [2, 2], [3, 1], [4, 1], [5, 3]]\n",
    "\n",
    "# ラグランジュの補間多項式の係数行列を求める\n",
    "a_matrix = lagrange(points)\n",
    "\n",
    "# 係数行列を多項式に変換\n",
    "func_lagrange = make_polynomial(a_matrix)\n",
    "\n",
    "# 0から8まで、0.1刻みでxとfの値のセットを求める\n",
    "x_list = np.arange(0, 8, 0.1)\n",
    "f_list = func_lagrange(x_list)\n",
    "\n",
    "# プロットする\n",
    "points_on_func(points, x_list, f_list)"
   ]
  },
  {
   "cell_type": "markdown",
   "metadata": {},
   "source": [
    "## 式(2.7)の実装\n",
    "\n",
    "補間多項式を変形した式から、逆行列の計算をすることなく、ラグランジュの補間多項式を求める  \n",
    "ただし、今回は補間多項式の係数行列を返すのではなく、具体的なxの値のリストに対して、補間値のリストを生成して返す\n",
    "\n",
    "INPUT  \n",
    "points: 与えられた点列を入力  \n",
    "x_list: 補間値を求めたいxのリストを入力\n",
    "\n",
    "OUTPUT  \n",
    "f_list: x_listの各要素に対する補間値のリスト"
   ]
  },
  {
   "cell_type": "code",
   "execution_count": 7,
   "metadata": {
    "collapsed": false
   },
   "outputs": [],
   "source": [
    "def lagrange2(points, x_list=np.arange(-5, 5, 0.1)):\n",
    "    dim = len(points) - 1\n",
    "\n",
    "    f_list = []\n",
    "    for x in x_list:\n",
    "        L = 0\n",
    "        for i in range(dim + 1):\n",
    "            Li = 1\n",
    "            for j in range(dim + 1):\n",
    "                if j != i:\n",
    "                    Li *= (x - points[j][0]) / (points[i][0] - points[j][0])\n",
    "\n",
    "            Li *= points[i][1]\n",
    "            L += Li\n",
    "\n",
    "        f_list.append(L)\n",
    "\n",
    "    return f_list"
   ]
  },
  {
   "cell_type": "code",
   "execution_count": 11,
   "metadata": {
    "collapsed": false
   },
   "outputs": [
    {
     "data": {
      "image/png": "[encoded data removed]",
      "text/plain": [
       "<matplotlib.figure.Figure at 0x10967c910>"
      ]
     },
     "metadata": {},
     "output_type": "display_data"
    }
   ],
   "source": [
    "points = [[1, 1], [2, 2], [3, 1], [4, 1], [5, 3]]\n",
    "a_matrix = lagrange2(points, np.arange(0, 8, 0.1))\n",
    "points_on_func(points, np.arange(0, 8, 0.1), a_matrix)"
   ]
  },
  {
   "cell_type": "code",
   "execution_count": null,
   "metadata": {
    "collapsed": false
   },
   "outputs": [],
   "source": []
  }
 ],
 "metadata": {
  "kernelspec": {
   "display_name": "Python 3",
   "language": "python",
   "name": "python3"
  },
  "language_info": {
   "codemirror_mode": {
    "name": "ipython",
    "version": 3
   },
   "file_extension": ".py",
   "mimetype": "text/x-python",
   "name": "python",
   "nbconvert_exporter": "python",
   "pygments_lexer": "ipython3",
   "version": "3.4.3"
  }
 },
 "nbformat": 4,
 "nbformat_minor": 0
}
